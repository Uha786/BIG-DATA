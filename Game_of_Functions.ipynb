{
  "nbformat": 4,
  "nbformat_minor": 0,
  "metadata": {
    "colab": {
      "provenance": [],
      "authorship_tag": "ABX9TyOu4wrw3j0+ShNr32UlLAex",
      "include_colab_link": true
    },
    "kernelspec": {
      "name": "python3",
      "display_name": "Python 3"
    },
    "language_info": {
      "name": "python"
    }
  },
  "cells": [
    {
      "cell_type": "markdown",
      "metadata": {
        "id": "view-in-github",
        "colab_type": "text"
      },
      "source": [
        "<a href=\"https://colab.research.google.com/github/Uha786/BIG-DATA/blob/main/Game_of_Functions.ipynb\" target=\"_parent\"><img src=\"https://colab.research.google.com/assets/colab-badge.svg\" alt=\"Open In Colab\"/></a>"
      ]
    },
    {
      "cell_type": "code",
      "execution_count": 1,
      "metadata": {
        "colab": {
          "base_uri": "https://localhost:8080/"
        },
        "id": "YL_BZovo-NFq",
        "outputId": "0cec33c9-6ac2-452f-fc85-3adb27c3fed8"
      },
      "outputs": [
        {
          "output_type": "stream",
          "name": "stdout",
          "text": [
            "Enter List of numbers: 8 2 1 0\n",
            "(8, 2, 1, 0)\n",
            "Generated List is:  [8, 2, 1, 0]\n",
            "11\n"
          ]
        }
      ],
      "source": [
        "def sum(numbers):\n",
        "    total = 0\n",
        "    for x in numbers:\n",
        "        total += x\n",
        "    return total\n",
        "List=input(\"Enter List of numbers: \")\n",
        "Tuple = tuple(int(number) for number in List.split())\n",
        "print(Tuple)\n",
        "Generated_List = list(Tuple)\n",
        "print(\"Generated List is: \", Generated_List)\n",
        "\n",
        "print(sum(Generated_List))"
      ]
    },
    {
      "cell_type": "code",
      "source": [],
      "metadata": {
        "id": "MIg84RXW-bIA"
      },
      "execution_count": null,
      "outputs": []
    }
  ]
}