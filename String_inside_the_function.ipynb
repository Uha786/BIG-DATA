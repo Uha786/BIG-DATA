{
  "nbformat": 4,
  "nbformat_minor": 0,
  "metadata": {
    "colab": {
      "provenance": [],
      "authorship_tag": "ABX9TyOGdlmCLh+lpnhq3YdeGJLz",
      "include_colab_link": true
    },
    "kernelspec": {
      "name": "python3",
      "display_name": "Python 3"
    },
    "language_info": {
      "name": "python"
    }
  },
  "cells": [
    {
      "cell_type": "markdown",
      "metadata": {
        "id": "view-in-github",
        "colab_type": "text"
      },
      "source": [
        "<a href=\"https://colab.research.google.com/github/Uha786/BIG-DATA/blob/main/String_inside_the_function.ipynb\" target=\"_parent\"><img src=\"https://colab.research.google.com/assets/colab-badge.svg\" alt=\"Open In Colab\"/></a>"
      ]
    },
    {
      "cell_type": "code",
      "execution_count": 1,
      "metadata": {
        "colab": {
          "base_uri": "https://localhost:8080/"
        },
        "id": "uYUDjqPJoVKs",
        "outputId": "29f64457-5767-4b29-8ed2-2f1ce156cb7f"
      },
      "outputs": [
        {
          "output_type": "stream",
          "name": "stdout",
          "text": [
            "Enter a string: 1234abcd\n",
            "The given string input is:  1234abcd\n",
            "String after using reverse function is:  dcba4321\n"
          ]
        }
      ],
      "source": [
        "def reverse(string):\n",
        "    result=''.join(reversed(string))\n",
        "    return result\n",
        "Sample_string=str(input(\"Enter a string: \"))\n",
        "print(\"The given string input is: \",Sample_string)\n",
        "Reversed_string=reverse(Sample_string)\n",
        "print(\"String after using reverse function is: \",Reversed_string)"
      ]
    },
    {
      "cell_type": "code",
      "source": [],
      "metadata": {
        "id": "cmshD6Ppof4r"
      },
      "execution_count": null,
      "outputs": []
    }
  ]
}