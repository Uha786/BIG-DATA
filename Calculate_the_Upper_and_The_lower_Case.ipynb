{
  "nbformat": 4,
  "nbformat_minor": 0,
  "metadata": {
    "colab": {
      "provenance": [],
      "authorship_tag": "ABX9TyNQCQxM5mJ/LVN15u++8rXM",
      "include_colab_link": true
    },
    "kernelspec": {
      "name": "python3",
      "display_name": "Python 3"
    },
    "language_info": {
      "name": "python"
    }
  },
  "cells": [
    {
      "cell_type": "markdown",
      "metadata": {
        "id": "view-in-github",
        "colab_type": "text"
      },
      "source": [
        "<a href=\"https://colab.research.google.com/github/Uha786/BIG-DATA/blob/main/Calculate_the_Upper_and_The_lower_Case.ipynb\" target=\"_parent\"><img src=\"https://colab.research.google.com/assets/colab-badge.svg\" alt=\"Open In Colab\"/></a>"
      ]
    },
    {
      "cell_type": "code",
      "execution_count": 12,
      "metadata": {
        "colab": {
          "base_uri": "https://localhost:8080/"
        },
        "id": "wIAZADR7Mssy",
        "outputId": "28e0a814-6061-4379-b7df-3bfe988e56cd"
      },
      "outputs": [
        {
          "output_type": "stream",
          "name": "stdout",
          "text": [
            "Enter a Sample String: The quick Brow Fox\n",
            "No. of Upper case characters :  3\n",
            "No. of Lower case characters :  12\n",
            "{'Upper_Case': 3, 'Lower_Case': 12}\n"
          ]
        }
      ],
      "source": [
        "def Sample_str(str):\n",
        "    Str={'Upper_Case':0,'Lower_Case':0}\n",
        "    for string in str:\n",
        "        if string.isupper():\n",
        "            Str['Upper_Case']+=1\n",
        "        elif string.islower():\n",
        "            Str['Lower_Case']+=1\n",
        "        else: pass\n",
        "    print(\"No. of Upper case characters : \",Str['Upper_Case'])\n",
        "    print(\"No. of Lower case characters : \",Str['Lower_Case'])\n",
        "    return Str\n",
        "Sample_string=str(input(\"Enter a Sample String: \"))\n",
        "print(Sample_str(Sample_string))\n",
        "    "
      ]
    },
    {
      "cell_type": "code",
      "source": [],
      "metadata": {
        "id": "4dIczX2hM3sv"
      },
      "execution_count": null,
      "outputs": []
    }
  ]
}